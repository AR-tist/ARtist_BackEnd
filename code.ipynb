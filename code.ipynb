{
 "cells": [
  {
   "cell_type": "code",
   "execution_count": 12,
   "metadata": {},
   "outputs": [
    {
     "data": {
      "text/plain": [
       "['READ__ME_TO_RECOVER_YOUR_DATA', 'admin', 'artist', 'config']"
      ]
     },
     "execution_count": 12,
     "metadata": {},
     "output_type": "execute_result"
    }
   ],
   "source": [
    "from pymongo import MongoClient\n",
    "\n",
    "client = MongoClient('mongodb://13.124.50.132:27017/')\n",
    "\n",
    "client.list_database_names()"
   ]
  },
  {
   "cell_type": "code",
   "execution_count": 14,
   "metadata": {},
   "outputs": [
    {
     "data": {
      "text/plain": [
       "[{'_id': ObjectId('65630a446637b48d0a369ed9'),\n",
       "  'filename': '하입보이-1700989508.79485.mid',\n",
       "  'title': '하입보이',\n",
       "  'imgurl': '',\n",
       "  'subtitle': '뉴진스',\n",
       "  'poster': 'TypeYourName82',\n",
       "  'rank': 0,\n",
       "  'like': 0,\n",
       "  'views': 0,\n",
       "  'music_length': 0,\n",
       "  'timestamp': 1700989508.79485}]"
      ]
     },
     "execution_count": 14,
     "metadata": {},
     "output_type": "execute_result"
    }
   ],
   "source": [
    "[i for i in client['artist']['MidiFile'].find()]"
   ]
  },
  {
   "cell_type": "code",
   "execution_count": 11,
   "metadata": {},
   "outputs": [
    {
     "name": "stdout",
     "output_type": "stream",
     "text": [
      "{\"type\":\"host_play\"}\n",
      "{'type': 'host_play'}\n",
      "type\n",
      "host_play\n"
     ]
    }
   ],
   "source": [
    "import json\n",
    "\n",
    "message = \"\\\"{\\\\\\\"type\\\\\\\":\\\\\\\"host_play\\\\\\\"}\\\"\"\n",
    "print(eval(message))\n",
    "message_dict = json.loads(eval(message))\n",
    "print(message_dict)\n",
    "for key in message_dict:\n",
    "    print(key)\n",
    "    print(message_dict[key])"
   ]
  },
  {
   "cell_type": "code",
   "execution_count": 3,
   "metadata": {},
   "outputs": [
    {
     "name": "stdout",
     "output_type": "stream",
     "text": [
      "1701400827526\n"
     ]
    }
   ],
   "source": [
    "from datetime import datetime\n",
    "\n",
    "now = datetime.now().timestamp()\n",
    "\n",
    "print(int(now * 1000))"
   ]
  }
 ],
 "metadata": {
  "kernelspec": {
   "display_name": "base",
   "language": "python",
   "name": "python3"
  },
  "language_info": {
   "codemirror_mode": {
    "name": "ipython",
    "version": 3
   },
   "file_extension": ".py",
   "mimetype": "text/x-python",
   "name": "python",
   "nbconvert_exporter": "python",
   "pygments_lexer": "ipython3",
   "version": "3.9.13"
  }
 },
 "nbformat": 4,
 "nbformat_minor": 2
}
