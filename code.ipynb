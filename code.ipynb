{
 "cells": [
  {
   "cell_type": "code",
   "execution_count": 1,
   "metadata": {},
   "outputs": [
    {
     "data": {
      "text/plain": [
       "['admin', 'artist', 'config', 'local']"
      ]
     },
     "execution_count": 1,
     "metadata": {},
     "output_type": "execute_result"
    }
   ],
   "source": [
    "from pymongo import MongoClient\n",
    "\n",
    "client = MongoClient('mongodb://13.124.50.132:27017/')\n",
    "\n",
    "client.list_database_names()"
   ]
  },
  {
   "cell_type": "code",
   "execution_count": 7,
   "metadata": {},
   "outputs": [
    {
     "data": {
      "text/plain": [
       "[{'_id': ObjectId('6550abd520aebd8aa2eb0f35'),\n",
       "  'filename': 'Hype Boy-1699785685.589432.mid',\n",
       "  'title': 'Hype Boy',\n",
       "  'imgurl': '',\n",
       "  'subtitle': '뉴진스',\n",
       "  'poster': '민규',\n",
       "  'rank': 0,\n",
       "  'like': 0,\n",
       "  'views': 0,\n",
       "  'music_length': 0,\n",
       "  'timestamp': 1699785685.589432},\n",
       " {'_id': ObjectId('6550ac1d20aebd8aa2eb0f36'),\n",
       "  'filename': '사건의 지평선-1699785757.697841.mid',\n",
       "  'title': '사건의 지평선',\n",
       "  'imgurl': '',\n",
       "  'subtitle': '윤하',\n",
       "  'poster': '민규',\n",
       "  'rank': 0,\n",
       "  'like': 0,\n",
       "  'views': 0,\n",
       "  'music_length': 0,\n",
       "  'timestamp': 1699785757.697841},\n",
       " {'_id': ObjectId('656052bc20aebd8aa2eb0f37'),\n",
       "  'filename': \"He's a Pirate (Pirates of the Caribbean OST)-1700811452.427381.mid\",\n",
       "  'title': \"He's a Pirate (Pirates of the Caribbean OST)\",\n",
       "  'imgurl': '',\n",
       "  'subtitle': 'Klaus Badelt, Hans Zimmer',\n",
       "  'poster': 'TypeYourName82',\n",
       "  'rank': 0,\n",
       "  'like': 0,\n",
       "  'views': 0,\n",
       "  'music_length': 0,\n",
       "  'timestamp': 1700811452.427381}]"
      ]
     },
     "execution_count": 7,
     "metadata": {},
     "output_type": "execute_result"
    }
   ],
   "source": [
    "[i for i in client['artist']['MidiFile'].find()]"
   ]
  },
  {
   "cell_type": "code",
   "execution_count": null,
   "metadata": {},
   "outputs": [],
   "source": []
  }
 ],
 "metadata": {
  "kernelspec": {
   "display_name": "base",
   "language": "python",
   "name": "python3"
  },
  "language_info": {
   "codemirror_mode": {
    "name": "ipython",
    "version": 3
   },
   "file_extension": ".py",
   "mimetype": "text/x-python",
   "name": "python",
   "nbconvert_exporter": "python",
   "pygments_lexer": "ipython3",
   "version": "3.9.13"
  }
 },
 "nbformat": 4,
 "nbformat_minor": 2
}
